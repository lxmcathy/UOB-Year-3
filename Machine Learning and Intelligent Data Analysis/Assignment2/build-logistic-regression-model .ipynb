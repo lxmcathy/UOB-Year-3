{
 "cells": [
  {
   "cell_type": "markdown",
   "metadata": {},
   "source": [
    "# Logistic Regression With Gradient Descent\n"
   ]
  },
  {
   "cell_type": "code",
   "execution_count": 12,
   "metadata": {},
   "outputs": [
    {
     "name": "stdout",
     "output_type": "stream",
     "text": [
      "<function sigmoid at 0x7f1751eea310>\n"
     ]
    }
   ],
   "source": [
    "from math import exp\n",
    "import sys\n",
    "\n",
    "def sigmoid(x):\n",
    "    try:\n",
    "    \n",
    "        sig= exp(x) / (1 + exp(x)) #define the sigmoid function\n",
    "\n",
    "    except OverflowError as err:\n",
    "        if (x>0):\n",
    "            return 1\n",
    "        else: \n",
    "            return 0\n",
    "    \n",
    "    return sig\n",
    "print(sigmoid)\n"
   ]
  },
  {
   "cell_type": "code",
   "execution_count": 13,
   "metadata": {},
   "outputs": [],
   "source": [
    "def linearCombination(x, w):\n",
    "    sum = 0\n",
    "    for i in range(len(w)):\n",
    "        sum += w[i] * x[i]\n",
    "    return sum"
   ]
  },
  {
   "cell_type": "code",
   "execution_count": 14,
   "metadata": {},
   "outputs": [],
   "source": [
    "def p1(x, w):\n",
    "    return sigmoid(linearCombination(w,x))"
   ]
  },
  {
   "cell_type": "code",
   "execution_count": 15,
   "metadata": {},
   "outputs": [],
   "source": [
    "from numpy import zeros\n",
    "\n",
    "def gradient(X, y, w, lam):\n",
    "    sum = zeros(len(w))\n",
    "    for i in range(len(X)):\n",
    "        for j in range(len(w)):\n",
    "            sum[j] += (p1(X[i],w) - y[i]) * X[i][j] \n",
    "            \n",
    "    for j in range(len(w)):\n",
    "        sum[j] += lam * w[j]\n",
    "        \n",
    "    return sum"
   ]
  },
  {
   "cell_type": "code",
   "execution_count": 16,
   "metadata": {},
   "outputs": [],
   "source": [
    "def gradientDescent(X,y,lr,lam,maxIt):\n",
    "    w = zeros(len(X[0]))\n",
    "    for gen in range(maxIt):\n",
    "        grad = gradient(X,y,w,lam);\n",
    "        for i in range(len(w)):\n",
    "            w[i] = w[i] - lr * grad[i]\n",
    "    return w"
   ]
  },
  {
   "cell_type": "code",
   "execution_count": 17,
   "metadata": {},
   "outputs": [
    {
     "data": {
      "text/plain": [
       "array([-6.69773652,  0.64952447,  0.98823519])"
      ]
     },
     "execution_count": 17,
     "metadata": {},
     "output_type": "execute_result"
    }
   ],
   "source": [
    "gradientDescent([[1,0.3,0.1],[1,0.3,0.2],[1,0.6,0.7],[1,0.8,0.2]], [0,0,1,1], 5, .1, 1000)"
   ]
  },
  {
   "cell_type": "code",
   "execution_count": 38,
   "metadata": {},
   "outputs": [
    {
     "data": {
      "image/png": "[encoded data removed]",
      "text/plain": [
       "<Figure size 432x288 with 1 Axes>"
      ]
     },
     "metadata": {
      "needs_background": "light"
     },
     "output_type": "display_data"
    }
   ],
   "source": [
    "# Creating a fine grid of input values X. We will ask the model to provide predictions to all these examples.\n",
    "# By doing that, we will know what probability is being associated to different regions of the space.\n",
    "\n",
    "import matplotlib.pyplot as plt\n",
    "\n",
    "x1 = [0.3,0.3,0.6,0.8]\n",
    "x2 = [0.1,0.2,0.7,0.2]\n",
    "w = [-6.69773652,  0.64952447,  0.98823519]\n",
    "\n",
    "# for x in x1:\n",
    "#     y = [(-w[0]-w[1]*(x1)/w[2]]\n",
    "\n",
    "y1 = [(-w[0]-w[1]*0.3)/w[2],(-w[0]-w[1]*0.3)/w[2],(-w[0]-w[1]*0.6)/w[2],(-w[0]-w[1]*0.8)/w[2]]\n",
    "\n",
    "plt.plot(x1,y1,'y-')\n",
    "plt.plot(x1,x2,'bo')\n",
    "plt.show()\n"
   ]
  },
  {
   "cell_type": "code",
   "execution_count": 39,
   "metadata": {},
   "outputs": [
    {
     "data": {
      "text/plain": [
       "array([-9.02004002, 14.12939944,  6.8493184 ])"
      ]
     },
     "execution_count": 39,
     "metadata": {},
     "output_type": "execute_result"
    }
   ],
   "source": [
    "gradientDescent([[1,0.3,0.1],[1,0.3,0.2],[1,0.6,0.7],[1,0.8,0.2]], [0,0,1,1], 5, .001, 1000)"
   ]
  },
  {
   "cell_type": "code",
   "execution_count": 40,
   "metadata": {},
   "outputs": [
    {
     "data": {
      "image/png": "[encoded data removed]",
      "text/plain": [
       "<Figure size 432x288 with 1 Axes>"
      ]
     },
     "metadata": {
      "needs_background": "light"
     },
     "output_type": "display_data"
    }
   ],
   "source": [
    "import matplotlib.pyplot as plt\n",
    "\n",
    "x1 = [0.3,0.3,0.6,0.8]\n",
    "x2 = [0.1,0.2,0.7,0.2]\n",
    "w = [-9.02004002, 14.12939944,  6.8493184 ]\n",
    "\n",
    "# for x in x1:\n",
    "#     y = [(-w[0]-w[1]*(x1)/w[2]]\n",
    "\n",
    "y1 = [(-w[0]-w[1]*0.3)/w[2],(-w[0]-w[1]*0.3)/w[2],(-w[0]-w[1]*0.6)/w[2],(-w[0]-w[1]*0.8)/w[2]]\n",
    "\n",
    "plt.plot(x1,y1,'y-')\n",
    "plt.plot(x1,x2,'bo')\n",
    "plt.show()\n"
   ]
  },
  {
   "cell_type": "code",
   "execution_count": null,
   "metadata": {},
   "outputs": [],
   "source": []
  }
 ],
 "metadata": {
  "kernelspec": {
   "display_name": "Python 3 (ipykernel)",
   "language": "python",
   "name": "python3"
  },
  "language_info": {
   "codemirror_mode": {
    "name": "ipython",
    "version": 3
   },
   "file_extension": ".py",
   "mimetype": "text/x-python",
   "name": "python",
   "nbconvert_exporter": "python",
   "pygments_lexer": "ipython3",
   "version": "3.8.8"
  }
 },
 "nbformat": 4,
 "nbformat_minor": 4
}
