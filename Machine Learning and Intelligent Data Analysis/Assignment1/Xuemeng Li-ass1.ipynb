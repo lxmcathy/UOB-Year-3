{
 "cells": [
  {
   "cell_type": "code",
   "execution_count": 15,
   "id": "2d63c8e1-6575-4cf3-bb8b-57ae56f07361",
   "metadata": {},
   "outputs": [
    {
     "data": {
      "text/plain": [
       "Text(0, 0.5, 't')"
      ]
     },
     "execution_count": 15,
     "metadata": {},
     "output_type": "execute_result"
    },
    {
     "data": {
      "image/png": "[encoded data removed]",
      "text/plain": [
       "<Figure size 432x288 with 1 Axes>"
      ]
     },
     "metadata": {
      "needs_background": "light"
     },
     "output_type": "display_data"
    }
   ],
   "source": [
    "# Data loader - DO NOT MODIFY\n",
    "import pandas as pd\n",
    "import numpy as np\n",
    "import matplotlib.pyplot as plt\n",
    "df = pd.read_csv('assignment1.csv').to_numpy()\n",
    "x = df[:,1].reshape((-1,1))\n",
    "t = df[:,2].reshape((-1,1))\n",
    "# x and t are 2d arrays of shape (N,1) where N is the number of data points\n",
    "plt.figure()\n",
    "plt.plot(x,t,'b.')\n",
    "plt.xlabel('x')\n",
    "plt.ylabel('t')"
   ]
  },
  {
   "cell_type": "code",
   "execution_count": 16,
   "id": "8e411c4f-7ffa-43c3-9dff-9a8fcb7aff77",
   "metadata": {},
   "outputs": [
    {
     "name": "stdout",
     "output_type": "stream",
     "text": [
      "Order & Train & Valid\\\\\n",
      "0 & 1.255 & 1.282\n",
      "1 & 0.575 & 0.814\n",
      "2 & 0.413 & 0.675\n",
      "3 & 0.197 & 0.418\n",
      "4 & 0.151 & 0.546\n",
      "5 & 0.125 & 0.724\n"
     ]
    },
    {
     "data": {
      "image/png": "[encoded data removed]",
      "text/plain": [
       "<Figure size 432x288 with 1 Axes>"
      ]
     },
     "metadata": {
      "needs_background": "light"
     },
     "output_type": "display_data"
    }
   ],
   "source": [
    "# Construct the dataset\n",
    "# the combined data for cross-validation 11 pts: 1,11,16,21,26,61,71,76,86,91,96\n",
    "xtrainval = [1,11,16,21,26,61,71,76,86,91,96]\n",
    "ttrainval = [0.117,2.021,2.489,3.348,3.215,4.141,4.047,3.805,4.722,4.691,4.388]\n",
    "# a test set of 3 pts: 6,66,81\n",
    "xtest = [6,66,81]\n",
    "ttest = [1.721,3.929,4.271]\n",
    "\n",
    "np.random.seed(1200)\n",
    "\n",
    "# First, combine the x and t data into a single array\n",
    "trainval = np.concatenate([np.atleast_2d(xtrainval).T,np.atleast_2d(ttrainval).T],axis=1)\n",
    "\n",
    "# Randomise the order\n",
    "trainval = np.random.permutation(trainval)\n",
    "\n",
    "# Split the dataset, remembering that we randomised the order of the data points. We'll split into K=3 folds.\n",
    "Folds = [ trainval[0:4], trainval[4:8], trainval[8:11] ]\n",
    "\n",
    "M = [0,1,2,3,4,5] # max polynomial order set to 3 because the training \n",
    "K = 3 # number of folds\n",
    "\n",
    "rmstrain = [] # error on the training folds\n",
    "rmsvalid = [] # RMS error on the validation fold\n",
    "stdtrain = [] # standard deviation over the training sets\n",
    "stdvalid = [] # standard deviation over the validation sets\n",
    "\n",
    "for i in M:\n",
    "    # Record the performance on the folds\n",
    "    train_loss = []\n",
    "    validation_loss = []\n",
    "    \n",
    "    for j in range(K):\n",
    "        # Select the one validation fold\n",
    "        Valid = Folds[j]       \n",
    "        # Select and combine the K-1 training folds\n",
    "        Train = np.concatenate(Folds[:j]+Folds[j+1:])                       \n",
    "        # Compute the basis matrix for the training and validation folds\n",
    "        PhiTrain = np.array([pow(Train[:,0],j) for j in range(0,i+1)]).transpose()\n",
    "        PhiValid = np.array([pow(Valid[:,0],j) for j in range(0,i+1)]).transpose()        \n",
    "        # Train the model\n",
    "        w = np.linalg.solve(np.matmul(PhiTrain.transpose(),PhiTrain), np.matmul(PhiTrain.transpose(),Train[:,1]))\n",
    "        # Compute the error on the training set\n",
    "        train_loss.append(np.sqrt(np.average(pow(Train[:,1]-np.matmul(PhiTrain,w),2))))\n",
    "        # Compute the error on the validation set\n",
    "        validation_loss.append(np.sqrt(np.average(pow(Valid[:,1]-np.matmul(PhiValid,w),2))))        \n",
    "    # Record the average over the folds\n",
    "    rmstrain.append(np.average(train_loss))\n",
    "    rmsvalid.append(np.average(validation_loss))\n",
    "    stdtrain.append(np.std(train_loss))\n",
    "    stdvalid.append(np.std(validation_loss)) \n",
    "\n",
    "plt.figure()\n",
    "plt.errorbar(M,rmstrain,fmt='b-',yerr=stdtrain,label=\"Train\")\n",
    "plt.errorbar(M,rmsvalid,fmt='y-',yerr=stdvalid,label=\"Validation\")\n",
    "plt.xlabel('M')\n",
    "plt.ylabel('RMS Error')\n",
    "plt.tight_layout()\n",
    "plt.savefig('cross-validation-loss.png')\n",
    "# print(w)\n",
    "# print(PhiTrain)\n",
    "# print(PhiValid)\n",
    "# print(xtrainval)\n",
    "# print(ttrainval)\n",
    "print(\"Order & Train & Valid\\\\\\\\\")\n",
    "for i in M:\n",
    "    print(f\"{i:d} & {rmstrain[i]:.3f} & {rmsvalid[i]:.3f}\")"
   ]
  },
  {
   "cell_type": "markdown",
   "id": "72e2d867-2a54-4592-87a4-56bf5ba129ae",
   "metadata": {},
   "source": [
    "the optimal model is cubic(it has the fewest validation)"
   ]
  },
  {
   "cell_type": "code",
   "execution_count": 17,
   "id": "94b27561-013e-464a-857a-909385abdbc0",
   "metadata": {},
   "outputs": [
    {
     "name": "stdout",
     "output_type": "stream",
     "text": [
      "[-3.013e-03  2.107e-01 -3.497e-03  1.891e-05]\n",
      "Training loss = 0.237\n",
      "Test loss = 0.356\n"
     ]
    },
    {
     "data": {
      "image/png": "[encoded data removed]",
      "text/plain": [
       "<Figure size 432x288 with 1 Axes>"
      ]
     },
     "metadata": {
      "needs_background": "light"
     },
     "output_type": "display_data"
    }
   ],
   "source": [
    "x = [1,6,11,16,21,26,31,36,41,46,51,56,61,66,71,76,81,86,91,96]\n",
    "\n",
    "polyorder = 3\n",
    "PhiTrain = np.array([pow(np.array(xtrainval),j) for j in range(0,polyorder+1)]).transpose()\n",
    "PhiTest = np.array([pow(np.array(xtest),j) for j in range(0,polyorder+1)]).transpose()\n",
    "\n",
    "hiPhi = np.array([pow(np.array(x),j) for j in range(0,polyorder+1)]).transpose()\n",
    "\n",
    "# Solve the normal equations using a standard solver\n",
    "w = np.linalg.solve(np.matmul(PhiTrain.transpose(),PhiTrain), np.matmul(PhiTrain.transpose(),np.array(ttrainval)))\n",
    "# Compute the estimated values of the data points so we can compute the error\n",
    "ytrain = np.matmul(PhiTrain,w)\n",
    "ytest = np.matmul(PhiTest,w)\n",
    "# compute the RMS error\n",
    "training_loss = np.sqrt(np.sum(pow(np.array(ttrainval)-ytrain,2)/np.array(xtrainval).size))\n",
    "test_loss = np.sqrt(np.sum(pow(np.array(ttest)-ytest,2)/np.array(xtest).size))\n",
    "optimal_w = w\n",
    "for i in range(4):\n",
    "    optimal_w[i] = \"%.3e\" % optimal_w[i]\n",
    "print(optimal_w)\n",
    "\n",
    "print(f\"Training loss = {training_loss:.3f}\")\n",
    "print(f\"Test loss = {test_loss:.3f}\")\n",
    "# print(w)\n",
    "# print(PhiTrain)\n",
    "# print(ttrainval)\n",
    "\n",
    "\n",
    "# Plot the data\n",
    "plt.figure()\n",
    "plt.plot(xtrainval,ttrainval,'b.')\n",
    "plt.plot(xtest,ttest,'r.')\n",
    "# plt.plot(x,h(x),'k-')\n",
    "plt.plot(np.array(x),np.matmul(hiPhi,w),'k--')\n",
    "plt.xlabel('x')\n",
    "plt.ylabel('t')\n",
    "plt.tight_layout()\n",
    "plt.savefig('cross-validation-result.png')\n"
   ]
  },
  {
   "cell_type": "code",
   "execution_count": 18,
   "id": "ee80edfc-d848-4f1e-b1d6-f66ea2e23a91",
   "metadata": {},
   "outputs": [
    {
     "name": "stdout",
     "output_type": "stream",
     "text": [
      "[3.73141781 3.93233996 4.06052611 4.13015876 4.15542041 4.15049356]\n"
     ]
    }
   ],
   "source": [
    "x_missing = [31, 36, 41, 46, 51, 56]\n",
    "PhiTrain_x = np.array([pow(np.array(x_missing),j) for j in range(0,polyorder+1)]).transpose()\n",
    "t_missing = np.matmul(PhiTrain_x,w)\n",
    "# print(PhiTrain_x)\n",
    "print(t_missing)"
   ]
  },
  {
   "cell_type": "markdown",
   "id": "5b0f0def-9e21-40c8-afbd-b180c0a401ce",
   "metadata": {
    "tags": []
   },
   "source": [
    "# Question 1"
   ]
  },
  {
   "cell_type": "markdown",
   "id": "9844b86e-1b1a-4d35-b97e-b8d09dfd0341",
   "metadata": {},
   "source": [
    "a). The optimal degree is 3, and the parameters are [-3.013e-03  2.107e-01 -3.497e-03  1.891e-05]                                                                                             \n",
    "b). graph see above                                                                                                                                                           \n",
    "When M = 3, the test loss is 0.356 which is similar to the Validation 0.418, so i think it can well generalise well to the unseen data                                        \n",
    "c). for x = 31, t = 3.731,                                                                                                                                                    \n",
    "        x = 36, t = 3.932,                                                                                                                                                    \n",
    "        x = 41, t = 4.061,                                                                                                                                                    \n",
    "        x = 46, t = 4.130,                                                                                                                                                    \n",
    "        x = 51, t = 4.155,                                                                                                                                                    \n",
    "        x = 56, t = 4.150 (t to 3 decimal places)                                                                                                                             "
   ]
  },
  {
   "cell_type": "code",
   "execution_count": 19,
   "id": "ff5f6449-a127-417d-ba25-afd97b67bf16",
   "metadata": {},
   "outputs": [
    {
     "name": "stdout",
     "output_type": "stream",
     "text": [
      "mean = [ 2.39746101e-01  1.96053847e-01 -3.27556735e-03  1.79472387e-05]\n",
      "w* = [ 2.43132765e-01  1.95766033e-01 -3.26985716e-03  1.79147545e-05]\n",
      "when Alpha close to 0, mean= [ 2.43132765e-01  1.95766033e-01 -3.26985716e-03  1.79147545e-05]\n"
     ]
    }
   ],
   "source": [
    "# np.random.seed(123456)\n",
    "# Npts = 14\n",
    "sigma = 0.1\n",
    "alpha = 2.0\n",
    "beta = (1/sigma)**2\n",
    "m0 = np.zeros(optimal_w.size)\n",
    "s0 = (1/alpha) * np.eye(optimal_w.size)\n",
    "# print(m0)\n",
    "# print(s0)\n",
    "\n",
    "# np.random.seed(1234)\n",
    "\n",
    "# First, combine the x and t data into a single array\n",
    "trainval_all = np.concatenate([np.atleast_2d(xtrainval + xtest).T,np.atleast_2d(ttrainval + ttest).T],axis=1)\n",
    "# Randomise the order\n",
    "trainval_all = np.random.permutation(trainval_all)\n",
    "# print(trainval_all)\n",
    "\n",
    "Phi = np.array([[pow(x,j) for j in range(0,polyorder+1)] for x in trainval_all[:,0]])\n",
    "# Solve the normal equations using a standard solver\n",
    "w_m = np.linalg.solve(np.matmul(Phi.transpose(),Phi), np.matmul(Phi.transpose(),np.array(trainval_all[:,1])))\n",
    "# print(Phi)\n",
    "invS0 = alpha * np.eye(optimal_w.size)\n",
    "invSN = invS0 + beta * np.matmul(Phi.T, Phi)\n",
    "SN = np.linalg.inv(invSN)\n",
    "mN = np.squeeze(beta * np.matmul(SN, np.matmul(Phi.T, trainval_all[:,1])))\n",
    "\n",
    "alpha1 = 0.0000000000001\n",
    "invS0AlphaEq0 = alpha1 * np.eye(optimal_w.size)\n",
    "invSN_alphaEq0 = invS0AlphaEq0 + beta * np.matmul(Phi.T, Phi)\n",
    "SN_AlphaEq0 = np.linalg.inv(invSN_alphaEq0)\n",
    "mN_AlphaEq0 = np.squeeze(beta * np.matmul(SN_AlphaEq0, np.matmul(Phi.T, trainval_all[:,1])))\n",
    "\n",
    "# print(invS0)\n",
    "# print(invS0AlphaEq0)\n",
    "# print(f\"covariance = {SN}\")\n",
    "print(f\"mean = {mN}\")\n",
    "print(f\"w* = {w_m}\")\n",
    "# print(f\"when Alpha =0,covariance = {SN_AlphaEq0}\")\n",
    "print(f\"when Alpha close to 0, mean= {mN_AlphaEq0}\")  "
   ]
  },
  {
   "cell_type": "markdown",
   "id": "d49d0b8f-a50b-4be6-b338-8a2f3ce9dbaf",
   "metadata": {
    "tags": []
   },
   "source": [
    "# Question 2"
   ]
  },
  {
   "cell_type": "markdown",
   "id": "c4e91b26-1095-42d5-ab87-44e8a2c97252",
   "metadata": {},
   "source": [
    "a&b). From the given values of parameters m0,S0 and alpha, and the equation of posterior mean: $ mN = \\beta S_N \\phi^T t $, and $ S_N^-1 = \\alpha I + \\beta \\phi^T \\phi $. Also from the equation $ \\phi^T t - \\phi^T \\phi w* = 0 $ where w* is the maximum likelihoood estimate, then we can get the values of w* and mN from above code,we can assume that $ w_N \\approx w^* $                                    \n",
    "                                                                                                                                                                           \n",
    "c). for the equation $ \\phi^T \\phi m_N = \\phi^T t $ and the values of w* and mN_AlphaEq0 show above, we can assume that when $ \\alpha = 0 $(infinitely close to 0 in code), the maximum likelihood estimate be identical to the mean of the posterior "
   ]
  },
  {
   "cell_type": "code",
   "execution_count": 20,
   "id": "ad6897dc-76e7-4650-91ee-fdb7a61abaa8",
   "metadata": {
    "tags": []
   },
   "outputs": [
    {
     "data": {
      "image/png": "[encoded data removed]",
      "text/plain": [
       "<Figure size 648x648 with 1 Axes>"
      ]
     },
     "metadata": {
      "needs_background": "light"
     },
     "output_type": "display_data"
    }
   ],
   "source": [
    "plt.figure(figsize=[9,9])\n",
    "\n",
    "# npts = 14\n",
    "x = [1,6,11,16,21,26,61,66,71,76,81,86,91,96]\n",
    "t =  [0.117,1.172,2.021,2.489,3.348,3.215,4.141,3.929,4.047,3.805,4.271,4.722,4.691,4.388]\n",
    "\n",
    "invS0 = alpha * np.eye(optimal_w.size)\n",
    "invSN = invS0 + beta * np.matmul(Phi.T, Phi)\n",
    "SN = np.linalg.inv(invSN)\n",
    "mN = np.squeeze(beta * np.matmul(SN, np.matmul(Phi.T, t)))\n",
    "\n",
    "b = np.array([pow(np.array(x),i) for i in range(0,polyorder+1)]).transpose()\n",
    "t_pre = np.matmul(b, w_m)\n",
    "\n",
    "sigmasq = (1/beta) + np.diag(np.matmul(Phi,np.matmul(SN,Phi.T)))\n",
    "x_reshape = np.array(x).reshape(1,-1)\n",
    "x_reshape = np.squeeze(x_reshape)\n",
    "\n",
    "# print(x_reshape)\n",
    "b = np.array([pow(np.array(x),i) for i in range(0,polyorder+1)]).transpose()\n",
    "t_pre = np.matmul(b, w_m)\n",
    "\n",
    "# print(mN)\n",
    "\n",
    "plt.subplot(3,3,i+1)\n",
    "plt.plot(x,t_pre,'k-')\n",
    "plt.plot(np.squeeze(x),np.squeeze(t),'b.')\n",
    "y = np.matmul(Phi,mN)\n",
    "# plt.plot(x,y,'r--')\n",
    "plt.fill_between(x_reshape,t_pre-np.sqrt(sigmasq), t_pre+np.sqrt(sigmasq),color='blue',alpha=0.3)\n",
    "plt.xlabel('x')\n",
    "plt.ylabel('y')\n",
    "# plt.title(f'N={npts}')\n",
    "plt.tight_layout()\n",
    "plt.savefig('bayesianprediction.png')\n",
    "\n"
   ]
  },
  {
   "cell_type": "code",
   "execution_count": 22,
   "id": "3eba6028-2d9a-4ebe-8762-ae44869d01af",
   "metadata": {},
   "outputs": [
    {
     "name": "stdout",
     "output_type": "stream",
     "text": [
      "[5.11727874 5.59097652 6.18602604 6.91586336 7.60580947]\n"
     ]
    }
   ],
   "source": [
    "x = [101,106,111,116,120]\n",
    "b = np.array([pow(np.array(x),i) for i in range(0,polyorder+1)]).transpose()\n",
    "t_pre = np.matmul(b, w_m)\n",
    "print (t_pre)"
   ]
  },
  {
   "cell_type": "code",
   "execution_count": 137,
   "id": "2e75766b-a32d-4144-9ce6-149861239a9c",
   "metadata": {},
   "outputs": [
    {
     "name": "stdout",
     "output_type": "stream",
     "text": [
      "[ 3.29425875e-02  2.07026084e-01 -3.43643531e-03  1.86518224e-05]\n"
     ]
    },
    {
     "data": {
      "image/png": "[encoded data removed]",
      "text/plain": [
       "<Figure size 432x288 with 1 Axes>"
      ]
     },
     "metadata": {
      "needs_background": "light"
     },
     "output_type": "display_data"
    }
   ],
   "source": [
    "x1 = [1,6,11,16,21,26,61,66,71,76,81,86,91,96,101,106,111,116,120]\n",
    "t1 =  [0.117,1.172,2.021,2.489,3.348,3.215,4.141,3.929,4.047,3.805,4.271,4.722,4.691,4.388,5.117,5.591,6.186,6.916,7.606]\n",
    "\n",
    "Phi_p = np.array([[pow(x,j) for j in range(0,polyorder+1)] for x in np.array(x1)])\n",
    "invS0 = alpha * np.eye(optimal_w.size)\n",
    "invSN = invS0 + beta * np.matmul(Phi_p.T, Phi_p)\n",
    "SN = np.linalg.inv(invSN)\n",
    "mN = np.squeeze(beta * np.matmul(SN, np.matmul(Phi_p.T, t1)))\n",
    "\n",
    "b = np.array([pow(np.array(x1),i) for i in range(0,polyorder+1)]).transpose()\n",
    "t_pre = np.matmul(b, w_m)\n",
    "\n",
    "sigmasq = (1/beta) + np.diag(np.matmul(Phi_p,np.matmul(SN,Phi_p.T)))\n",
    "x1_reshape = np.array(x1).reshape(1,-1)\n",
    "x1_reshape = np.squeeze(x1_reshape)\n",
    "\n",
    "# print(x_reshape)\n",
    "b = np.array([pow(np.array(x1),i) for i in range(0,polyorder+1)]).transpose()\n",
    "t_pre = np.matmul(b, w_m)\n",
    "\n",
    "print(mN)\n",
    "\n",
    "plt.subplot(2,2,i+1)\n",
    "plt.plot(x1,t_pre,'k-')\n",
    "plt.plot(np.squeeze(x1),np.squeeze(t1),'b.')\n",
    "y = np.matmul(Phi_p,mN)\n",
    "# plt.plot(x,y,'r--')\n",
    "plt.fill_between(x1_reshape,t_pre-np.sqrt(sigmasq), t_pre+np.sqrt(sigmasq),color='blue',alpha=0.3)\n",
    "plt.xlabel('x')\n",
    "plt.ylabel('y')\n",
    "# plt.title(f'N={npts}')\n",
    "plt.tight_layout()\n",
    "plt.savefig('bayesianprediction.png')\n"
   ]
  },
  {
   "cell_type": "markdown",
   "id": "75c6deeb-3f7a-4ef3-9402-9eff44dda9a7",
   "metadata": {},
   "source": [
    "# Question 3"
   ]
  },
  {
   "cell_type": "markdown",
   "id": "d5986625-f9cd-4bf5-a778-cec372a8250f",
   "metadata": {},
   "source": [
    "a).See above graphic1 for Q3                                                  \n",
    "b).See above graphic2 for Q3\n",
    "When predicting the future t, the data increase rapidly than before.\n",
    "The mean is [ 3.29425875e-02  2.07026084e-01 -3.43643531e-03  1.86518224e-05]\n",
    "And the prediction on day 120 is around 7.606."
   ]
  },
  {
   "cell_type": "code",
   "execution_count": null,
   "id": "8750ad43-84d5-4761-bed6-14d9a53e70f7",
   "metadata": {},
   "outputs": [],
   "source": []
  }
 ],
 "metadata": {
  "kernelspec": {
   "display_name": "Python 3 (ipykernel)",
   "language": "python",
   "name": "python3"
  },
  "language_info": {
   "codemirror_mode": {
    "name": "ipython",
    "version": 3
   },
   "file_extension": ".py",
   "mimetype": "text/x-python",
   "name": "python",
   "nbconvert_exporter": "python",
   "pygments_lexer": "ipython3",
   "version": "3.8.8"
  }
 },
 "nbformat": 4,
 "nbformat_minor": 5
}
